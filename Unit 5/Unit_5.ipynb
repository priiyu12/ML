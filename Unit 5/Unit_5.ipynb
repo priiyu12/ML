{
 "cells": [
  {
   "cell_type": "code",
   "execution_count": 30,
   "id": "efa295d2-d61f-45e9-9e7d-886493c42104",
   "metadata": {},
   "outputs": [
    {
     "name": "stdout",
     "output_type": "stream",
     "text": [
      "Speak now...\n",
      "You said: hello guys WhatsApp please subscribe to my channel comment below like and share\n"
     ]
    }
   ],
   "source": [
    "import speech_recognition as sr\n",
    "\n",
    "# Initialize recognizer\n",
    "recognizer = sr.Recognizer()\n",
    "\n",
    "# Capture audio from microphone\n",
    "with sr.Microphone() as source:\n",
    "    print(\"Speak now...\")\n",
    "    recognizer.adjust_for_ambient_noise(source)  # Adjust for noise\n",
    "    audio = recognizer.listen(source, timeout=10)  # Listen for 5 seconds\n",
    "\n",
    "    # Transcribe audio\n",
    "    try:\n",
    "        text = recognizer.recognize_google(audio)\n",
    "        print(\"You said:\", text)\n",
    "    except sr.UnknownValueError:\n",
    "        print(\"Could not understand audio\")\n",
    "    except sr.RequestError:\n",
    "        print(\"API error\")"
   ]
  },
  {
   "cell_type": "code",
   "execution_count": 25,
   "id": "029b772e-0491-45d5-a44e-ca3db36b7af2",
   "metadata": {},
   "outputs": [
    {
     "name": "stdin",
     "output_type": "stream",
     "text": [
      "Enter path to known person image (e.g., known.jpg):  /Users/prii/Desktop/Priya.jpg\n",
      "Enter path to unknown person image (e.g., unknown.jpg):  /Users/prii/Desktop/prii.jpg\n"
     ]
    },
    {
     "name": "stdout",
     "output_type": "stream",
     "text": [
      "Same person: True\n"
     ]
    }
   ],
   "source": [
    "import face_recognition\n",
    "\n",
    "# Get image paths from user\n",
    "known_image_path = input(\"Enter path to known person image (e.g., known.jpg): \")\n",
    "unknown_image_path = input(\"Enter path to unknown person image (e.g., unknown.jpg): \")\n",
    "\n",
    "# Load images\n",
    "known_image = face_recognition.load_image_file(known_image_path)\n",
    "unknown_image = face_recognition.load_image_file(unknown_image_path)\n",
    "\n",
    "# Encode faces\n",
    "try:\n",
    "    known_encoding = face_recognition.face_encodings(known_image)[0]\n",
    "    unknown_encoding = face_recognition.face_encodings(unknown_image)[0]\n",
    "\n",
    "    # Compare faces\n",
    "    results = face_recognition.compare_faces([known_encoding], unknown_encoding)\n",
    "    print(\"Same person:\", results[0])\n",
    "except IndexError:\n",
    "    print(\"No face detected in one or both images\")"
   ]
  },
  {
   "cell_type": "code",
   "execution_count": 31,
   "id": "8c593a53-6db1-4f7f-b9f4-a2c07160f66c",
   "metadata": {},
   "outputs": [
    {
     "name": "stdin",
     "output_type": "stream",
     "text": [
      "Enter path to known person image (e.g., known.jpg):  /Users/prii/Desktop/Priya.jpg\n",
      "Enter path to unknown person image (e.g., unknown.jpg):  /Users/prii/Desktop/kavya.jpg\n"
     ]
    },
    {
     "name": "stdout",
     "output_type": "stream",
     "text": [
      "Same person: False\n"
     ]
    }
   ],
   "source": [
    "import face_recognition\n",
    "\n",
    "# Get image paths from user\n",
    "known_image_path = input(\"Enter path to known person image (e.g., known.jpg): \")\n",
    "unknown_image_path = input(\"Enter path to unknown person image (e.g., unknown.jpg): \")\n",
    "\n",
    "# Load images\n",
    "known_image = face_recognition.load_image_file(known_image_path)\n",
    "unknown_image = face_recognition.load_image_file(unknown_image_path)\n",
    "\n",
    "# Encode faces\n",
    "try:\n",
    "    known_encoding = face_recognition.face_encodings(known_image)[0]\n",
    "    unknown_encoding = face_recognition.face_encodings(unknown_image)[0]\n",
    "\n",
    "    # Compare faces\n",
    "    results = face_recognition.compare_faces([known_encoding], unknown_encoding)\n",
    "    print(\"Same person:\", results[0])\n",
    "except IndexError:\n",
    "    print(\"No face detected in one or both images\")"
   ]
  },
  {
   "cell_type": "code",
   "execution_count": 32,
   "id": "38aac05c-c2ed-4aba-a368-d60651bd7b6c",
   "metadata": {},
   "outputs": [
    {
     "name": "stdin",
     "output_type": "stream",
     "text": [
      "Enter email text:  Free free\n"
     ]
    },
    {
     "name": "stdout",
     "output_type": "stream",
     "text": [
      "Prediction: spam\n"
     ]
    }
   ],
   "source": [
    "from sklearn.feature_extraction.text import TfidfVectorizer\n",
    "from sklearn.naive_bayes import MultinomialNB\n",
    "from sklearn.pipeline import make_pipeline\n",
    "\n",
    "# Sample training data\n",
    "texts = ['win free money', 'meeting tomorrow', 'buy cheap pills', 'project update']\n",
    "labels = ['spam', 'not spam', 'spam', 'not spam']\n",
    "\n",
    "# Train model\n",
    "model = make_pipeline(TfidfVectorizer(), MultinomialNB())\n",
    "model.fit(texts, labels)\n",
    "\n",
    "# Get user input\n",
    "user_text = input(\"Enter email text: \")\n",
    "\n",
    "# Predict\n",
    "prediction = model.predict([user_text])\n",
    "print(\"Prediction:\", prediction[0])"
   ]
  }
 ],
 "metadata": {
  "kernelspec": {
   "display_name": "Python 3 (ipykernel)",
   "language": "python",
   "name": "python3"
  },
  "language_info": {
   "codemirror_mode": {
    "name": "ipython",
    "version": 3
   },
   "file_extension": ".py",
   "mimetype": "text/x-python",
   "name": "python",
   "nbconvert_exporter": "python",
   "pygments_lexer": "ipython3",
   "version": "3.13.2"
  }
 },
 "nbformat": 4,
 "nbformat_minor": 5
}
