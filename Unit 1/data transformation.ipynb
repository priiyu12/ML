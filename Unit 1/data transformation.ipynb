{
 "cells": [
  {
   "cell_type": "code",
   "execution_count": 1,
   "id": "82450c41-66bd-4eef-a5c2-301f16ff0b1b",
   "metadata": {},
   "outputs": [
    {
     "name": "stdout",
     "output_type": "stream",
     "text": [
      "   Color_Blue  Color_Green  Color_Red\n",
      "0           0            0          1\n",
      "1           0            1          0\n",
      "2           1            0          0\n",
      "3           0            0          1\n"
     ]
    }
   ],
   "source": [
    "import pandas as pd\n",
    "\n",
    "# Sample data\n",
    "data = {'Color': ['Red', 'Green', 'Blue', 'Red']}\n",
    "df = pd.DataFrame(data)\n",
    "\n",
    "# Applying one-hot encoding\n",
    "df_encoded = pd.get_dummies(df, dtype=int)\n",
    "\n",
    "# Displaying the encoded DataFrame\n",
    "print(df_encoded)"
   ]
  },
  {
   "cell_type": "code",
   "execution_count": 2,
   "id": "53e49bad-de51-48ca-9273-cc7d3992163b",
   "metadata": {},
   "outputs": [
    {
     "name": "stdout",
     "output_type": "stream",
     "text": [
      "[[0. 0. 1.]]\n"
     ]
    }
   ],
   "source": [
    "from sklearn.preprocessing import OneHotEncoder\n",
    "import numpy as np\n",
    "\n",
    "# Creating the encoder\n",
    "enc = OneHotEncoder(handle_unknown='ignore')\n",
    "\n",
    "# Sample data\n",
    "X = [['Blue'], ['Green'], ['Red']]\n",
    "\n",
    "# Fitting the encoder to the data\n",
    "enc.fit(X)\n",
    "\n",
    "# Transforming new data\n",
    "result = enc.transform([['Red']]).toarray()\n",
    "\n",
    "# Displaying the encoded result\n",
    "print(result)"
   ]
  },
  {
   "cell_type": "code",
   "execution_count": 3,
   "id": "f40fd176-143d-4a83-94bd-bc17c31d4dad",
   "metadata": {},
   "outputs": [
    {
     "name": "stdout",
     "output_type": "stream",
     "text": [
      "Encoded DataFrame:\n",
      "   Color_Blue  Color_Green  Color_Red\n",
      "0       False        False       True\n",
      "1       False         True      False\n",
      "2        True        False      False\n",
      "3       False        False       True\n"
     ]
    }
   ],
   "source": [
    "import pandas as pd\n",
    "\n",
    "# Sample data\n",
    "data = {'Color': ['Red', 'Green', 'Blue', 'Red']}\n",
    "df = pd.DataFrame(data)\n",
    "\n",
    "# Applying one-hot encoding\n",
    "df_encoded = pd.get_dummies(df, columns=['Color'])\n",
    "\n",
    "# Displaying the encoded DataFrame\n",
    "print(\"Encoded DataFrame:\")\n",
    "print(df_encoded)"
   ]
  },
  {
   "cell_type": "code",
   "execution_count": 4,
   "id": "5c3df38c-6b75-45f5-ad14-9b0d66e21199",
   "metadata": {},
   "outputs": [
    {
     "name": "stdout",
     "output_type": "stream",
     "text": [
      "  Category  Age  Income Transaction_Date                       Text  Target\n",
      "0        A   23   50000       2022-12-01    I love machine learning       1\n",
      "1        B   45   60000       2022-12-02   Python is great for data       0\n",
      "2        A   12   25000       2022-12-01  Deep learning is powerful       1\n",
      "3        B   67   80000       2022-12-03             I enjoy coding       0\n",
      "4        C   29   55000       2022-12-02        Data science is fun       1\n",
      "5        A   45   62000       2022-12-01    Python machine learning       0\n",
      "6        C   34   35000       2022-12-03              Deep learning       1\n",
      "7        B   22   48000       2022-12-01              I love Python       0\n"
     ]
    }
   ],
   "source": [
    "import pandas as pd\n",
    "import numpy as np\n",
    "import matplotlib.pyplot as plt\n",
    "%matplotlib inline\n",
    "data = {\n",
    "    'Category': ['A', 'B', 'A', 'B', 'C', 'A', 'C', 'B'],\n",
    "    'Age': [23, 45, 12, 67, 29, 45, 34, 22],\n",
    "    'Income': [50000, 60000, 25000, 80000, 55000, 62000, 35000, 48000],\n",
    "    'Transaction_Date': ['2022-12-01', '2022-12-02', '2022-12-01', '2022-12-03', '2022-12-02', '2022-12-01', '2022-12-03', '2022-12-01'],\n",
    "    'Text': ['I love machine learning', 'Python is great for data', 'Deep learning is powerful', 'I enjoy coding', 'Data science is fun', 'Python machine learning', 'Deep learning', 'I love Python'],\n",
    "    'Target': [1, 0, 1, 0, 1, 0, 1, 0]\n",
    "}\n",
    "# Creating a DataFrame\n",
    "df = pd.DataFrame(data)\n",
    "print(df)\n"
   ]
  },
  {
   "cell_type": "code",
   "execution_count": 5,
   "id": "9314287a-05d1-4567-87f7-631f51712a67",
   "metadata": {},
   "outputs": [
    {
     "name": "stdout",
     "output_type": "stream",
     "text": [
      "   Age  Income Transaction_Date                       Text  Target  \\\n",
      "0   23   50000       2022-12-01    I love machine learning       1   \n",
      "1   45   60000       2022-12-02   Python is great for data       0   \n",
      "2   12   25000       2022-12-01  Deep learning is powerful       1   \n",
      "3   67   80000       2022-12-03             I enjoy coding       0   \n",
      "4   29   55000       2022-12-02        Data science is fun       1   \n",
      "5   45   62000       2022-12-01    Python machine learning       0   \n",
      "6   34   35000       2022-12-03              Deep learning       1   \n",
      "7   22   48000       2022-12-01              I love Python       0   \n",
      "\n",
      "   Category_B  Category_C  \n",
      "0       False       False  \n",
      "1        True       False  \n",
      "2       False       False  \n",
      "3        True       False  \n",
      "4       False        True  \n",
      "5       False       False  \n",
      "6       False        True  \n",
      "7        True       False  \n"
     ]
    }
   ],
   "source": [
    "# Step 1: Converting categorical variables into numerical representations using One-Hot Encoding\n",
    "#one-hot encoding\n",
    "df = pd.get_dummies(df, columns=['Category'], drop_first=True)\n",
    "print(df)\n"
   ]
  },
  {
   "cell_type": "code",
   "execution_count": 6,
   "id": "465564e1-419a-4ab1-a51f-b6e37126a8ef",
   "metadata": {},
   "outputs": [
    {
     "name": "stdout",
     "output_type": "stream",
     "text": [
      "[[0.         0.        ]\n",
      " [0.11111111 0.25      ]\n",
      " [1.         1.        ]]\n"
     ]
    }
   ],
   "source": [
    "#The MinMax scaler is one of the simplest scalers to understand.  It just scales all the data between 0 and 1. The formula for calculating the scaled value is-\n",
    "#x_scaled = (x – x_min)/(x_max – x_min)\n",
    "from sklearn.preprocessing import MinMaxScaler\n",
    "\n",
    "import numpy as np\n",
    "\n",
    "# Create a sample dataset\n",
    "\n",
    "data = np.array([[1, 2], [2, 4], [10, 10]])\n",
    "\n",
    "# Create a scaler object\n",
    "\n",
    "scaler = MinMaxScaler()\n",
    "\n",
    "# Scale the data\n",
    "\n",
    "scaled_data = scaler.fit_transform(data)\n",
    "\n",
    "print(scaled_data)"
   ]
  },
  {
   "cell_type": "code",
   "execution_count": 2,
   "id": "6b74fb24-a2c7-4548-9ce6-131cba97a2ca",
   "metadata": {},
   "outputs": [
    {
     "data": {
      "image/png": "[encoded data removed]",
      "text/plain": [
       "<Figure size 640x480 with 1 Axes>"
      ]
     },
     "metadata": {},
     "output_type": "display_data"
    },
    {
     "data": {
      "image/png": "[encoded data removed]",
      "text/plain": [
       "<Figure size 640x480 with 1 Axes>"
      ]
     },
     "metadata": {},
     "output_type": "display_data"
    }
   ],
   "source": [
    "import numpy as np\n",
    "import pandas as pd\n",
    "import matplotlib.pyplot as plt\n",
    "\n",
    "# Example DataFrame with a skewed distribution\n",
    "data = {'value': [1, 2, 3, 4, 5, 10, 20, 50, 100, 200, 500, 1000, 2000]}\n",
    "df = pd.DataFrame(data)\n",
    "\n",
    "# Visualizing the original data\n",
    "plt.plot(df['value'])\n",
    "plt.title('Original Distribution')\n",
    "plt.show()\n",
    "\n",
    "# Apply Log Transformation (log base e)\n",
    "df['log_value'] = np.log(df['value'])\n",
    "\n",
    "# Visualizing the log-transformed data\n",
    "plt.plot(df['log_value'])\n",
    "plt.title('Log-transformed Distribution')\n",
    "plt.show()\n"
   ]
  },
  {
   "cell_type": "code",
   "execution_count": 3,
   "id": "4d3c6571-33bc-46e9-a843-612aa71038fe",
   "metadata": {},
   "outputs": [
    {
     "data": {
      "image/png": "[encoded data removed]",
      "text/plain": [
       "<Figure size 640x480 with 1 Axes>"
      ]
     },
     "metadata": {},
     "output_type": "display_data"
    }
   ],
   "source": [
    "# Apply Square Root Transformation\n",
    "df['sqrt_value'] = np.sqrt(df['value'])\n",
    "\n",
    "# Visualizing the square root-transformed data\n",
    "plt.plot(df['sqrt_value'])\n",
    "plt.title('Square Root-transformed Distribution')\n",
    "plt.show()\n"
   ]
  },
  {
   "cell_type": "code",
   "execution_count": 19,
   "id": "09216292-790d-4ba4-8988-adb0f635c788",
   "metadata": {},
   "outputs": [
    {
     "name": "stdout",
     "output_type": "stream",
     "text": [
      "  Category  Age  Income Transaction_Date                       Text  Target\n",
      "0        A   23   50000       2022-12-01    I love machine learning       1\n",
      "1        B   45   60000       2022-12-02   Python is great for data       0\n",
      "2        A   12   25000       2022-12-01  Deep learning is powerful       1\n",
      "3        B   67   80000       2022-12-03             I enjoy coding       0\n",
      "4        C   29   55000       2022-12-02        Data science is fun       1\n",
      "5        A   45   62000       2022-12-01    Python machine learning       0\n",
      "6        C   34   35000       2022-12-03              Deep learning       1\n",
      "7        B   22   48000       2022-12-01              I love Python       0\n"
     ]
    }
   ],
   "source": [
    "data = {\n",
    "    'Category': ['A', 'B', 'A', 'B', 'C', 'A', 'C', 'B'],\n",
    "    'Age': [23, 45, 12, 67, 29, 45, 34, 22],\n",
    "    'Income': [50000, 60000, 25000, 80000, 55000, 62000, 35000, 48000],\n",
    "    'Transaction_Date': ['2022-12-01', '2022-12-02', '2022-12-01', '2022-12-03', '2022-12-02', '2022-12-01', '2022-12-03', '2022-12-01'],\n",
    "    'Text': ['I love machine learning', 'Python is great for data', 'Deep learning is powerful', 'I enjoy coding', 'Data science is fun', 'Python machine learning', 'Deep learning', 'I love Python'],\n",
    "    'Target': [1, 0, 1, 0, 1, 0, 1, 0]\n",
    "}\n",
    "\n",
    "# Creating a DataFrame\n",
    "df = pd.DataFrame(data)\n",
    "print(df)\n",
    "\n"
   ]
  },
  {
   "cell_type": "code",
   "execution_count": 8,
   "id": "99672c72-76a0-4c9b-b024-8ddb950d6caa",
   "metadata": {},
   "outputs": [
    {
     "name": "stderr",
     "output_type": "stream",
     "text": [
      "[nltk_data] Downloading package punkt_tab to\n",
      "[nltk_data]     /home/faculty/nltk_data...\n",
      "[nltk_data]   Package punkt_tab is already up-to-date!\n"
     ]
    },
    {
     "data": {
      "text/plain": [
       "True"
      ]
     },
     "execution_count": 8,
     "metadata": {},
     "output_type": "execute_result"
    }
   ],
   "source": [
    "import nltk\n",
    "nltk.download('punkt_tab')"
   ]
  },
  {
   "cell_type": "code",
   "execution_count": 2,
   "id": "20391646-eefb-4e38-8968-0319b3407b83",
   "metadata": {},
   "outputs": [],
   "source": [
    "# Import Libraray \n",
    "from nltk.tokenize import word_tokenize,sent_tokenize"
   ]
  },
  {
   "cell_type": "code",
   "execution_count": 3,
   "id": "1594e9d7-bf42-4147-a9e2-92bea5e97a16",
   "metadata": {},
   "outputs": [
    {
     "data": {
      "text/plain": [
       "['I', 'am', 'going', 'to', 'take', 'CEC', 'on', '13th', 'JAN', '2025', '!']"
      ]
     },
     "execution_count": 3,
     "metadata": {},
     "output_type": "execute_result"
    }
   ],
   "source": [
    "\n",
    "\n",
    "# Text\n",
    "sentence = 'I am going to take CEC on 13th JAN 2025!'\n",
    "# Calling tool\n",
    "word_tokenize(sentence)\n",
    "\n"
   ]
  },
  {
   "cell_type": "code",
   "execution_count": 11,
   "id": "ff1c504f-80d4-4091-9180-6eee2f733810",
   "metadata": {},
   "outputs": [
    {
     "data": {
      "text/plain": [
       "['Hello everyone.', 'Welcome to GLS.', 'You are studying ML by Rinkal shah']"
      ]
     },
     "execution_count": 11,
     "metadata": {},
     "output_type": "execute_result"
    }
   ],
   "source": [
    "# Whole text Containing 2 or more Sentences\n",
    "from nltk.tokenize import sent_tokenize\n",
    " \n",
    "text = \"Hello everyone. Welcome to GLS. You are studying ML by Rinkal shah\"\n",
    "sent_tokenize(text)\n"
   ]
  },
  {
   "cell_type": "code",
   "execution_count": 12,
   "id": "b2a540dd-7e35-404c-b75c-2f2dcaa535b4",
   "metadata": {},
   "outputs": [],
   "source": [
    "# Import PorterStemmer from NLTK Library\n",
    "from nltk.stem.porter import PorterStemmer\n",
    "# Intilize Stemmer\n",
    "stemmer = PorterStemmer()\n",
    "\n",
    "# This Function Will Stem Words\n",
    "def stem_words(text):\n",
    "    return \" \".join([stemmer.stem(word) for word in text.split()])\n"
   ]
  },
  {
   "cell_type": "code",
   "execution_count": 13,
   "id": "ef2f3f77-a162-4f20-87f0-6c0434df8b13",
   "metadata": {},
   "outputs": [
    {
     "data": {
      "text/plain": [
       "'walk walk walk walk'"
      ]
     },
     "execution_count": 13,
     "metadata": {},
     "output_type": "execute_result"
    }
   ],
   "source": [
    "# A single Sentence\n",
    "st = \"walk walks walking walked\"\n",
    "# Calling Function\n",
    "stem_words(st)\n"
   ]
  },
  {
   "cell_type": "code",
   "execution_count": 15,
   "id": "bcea70bc-6f50-403e-a0d5-bb2cce540571",
   "metadata": {},
   "outputs": [
    {
     "data": {
      "text/plain": [
       "'we are learn machin learn from prof. rinkal shah. natur languag process is use here.'"
      ]
     },
     "execution_count": 15,
     "metadata": {},
     "output_type": "execute_result"
    }
   ],
   "source": [
    "st = \"we are learning machine learning from Prof. Rinkal shah. Natural language processing is used here.\"\n",
    "# Calling Function\n",
    "stem_words(st)"
   ]
  },
  {
   "cell_type": "code",
   "execution_count": 29,
   "id": "2efeb83a-62fa-4609-b8fe-2699ed98c5e3",
   "metadata": {},
   "outputs": [
    {
     "name": "stderr",
     "output_type": "stream",
     "text": [
      "[nltk_data] Downloading package wordnet to /home/faculty/nltk_data...\n"
     ]
    },
    {
     "data": {
      "text/plain": [
       "True"
      ]
     },
     "execution_count": 29,
     "metadata": {},
     "output_type": "execute_result"
    }
   ],
   "source": [
    "import nltk\n",
    "nltk.download('wordnet')"
   ]
  },
  {
   "cell_type": "code",
   "execution_count": 30,
   "id": "c7d9547d-9cb6-422e-8cc1-d132ce89d7d5",
   "metadata": {},
   "outputs": [
    {
     "data": {
      "text/plain": [
       "['we',\n",
       " 'be',\n",
       " 'learn',\n",
       " 'machine',\n",
       " 'learn',\n",
       " 'from',\n",
       " 'Prof.',\n",
       " 'Rinkal',\n",
       " 'shah.',\n",
       " 'Natural',\n",
       " 'language',\n",
       " 'process',\n",
       " 'be',\n",
       " 'use',\n",
       " 'here.']"
      ]
     },
     "execution_count": 30,
     "metadata": {},
     "output_type": "execute_result"
    }
   ],
   "source": [
    "\n",
    "lemmatizer = WordNetLemmatizer()\n",
    "\n",
    "def lemmatize_word(text):\n",
    "    word_tokens = text.split()\n",
    "    lemmas = [lemmatizer.lemmatize(word, pos ='v') for word in word_tokens]\n",
    "    return lemmas\n",
    " \n",
    "text = 'we are learning machine learning from Prof. Rinkal shah. Natural language processing is used here.'\n",
    "lemmatize_word(text)"
   ]
  },
  {
   "cell_type": "code",
   "execution_count": 5,
   "id": "b8c1e41e-f323-40b2-bb1c-fbe41df21d1b",
   "metadata": {},
   "outputs": [
    {
     "name": "stdout",
     "output_type": "stream",
     "text": [
      "             timestamp\n",
      "0  2025-01-06 08:23:45\n",
      "1  2025-06-15 14:12:00\n",
      "2  2025-12-25 18:35:00 \n",
      "\n",
      "            timestamp  day_of_week  hour_of_day  month  day_of_month  quarter  \\\n",
      "0 2025-01-06 08:23:45            0            8      1             6        1   \n",
      "1 2025-06-15 14:12:00            6           14      6            15        2   \n",
      "2 2025-12-25 18:35:00            3           18     12            25        4   \n",
      "\n",
      "   is_weekend  \n",
      "0       False  \n",
      "1        True  \n",
      "2       False  \n"
     ]
    }
   ],
   "source": [
    "import pandas as pd\n",
    "import numpy as np\n",
    "\n",
    "# Sample DataFrame with 'timestamp' column\n",
    "data = {'timestamp': ['2025-01-06 08:23:45', '2025-06-15 14:12:00', '2025-12-25 18:35:00']}\n",
    "df = pd.DataFrame(data)\n",
    "print(df, \"\\n\")\n",
    "\n",
    "# Convert 'timestamp' column to datetime type\n",
    "df['timestamp'] = pd.to_datetime(df['timestamp'])\n",
    "\n",
    "# Extract day of the week (0=Monday, 6=Sunday)\n",
    "df['day_of_week'] = df['timestamp'].dt.dayofweek\n",
    "\n",
    "# Extract hour of the day (0 to 23)\n",
    "df['hour_of_day'] = df['timestamp'].dt.hour\n",
    "\n",
    "# Extract month of the year (1 to 12)\n",
    "df['month'] = df['timestamp'].dt.month\n",
    "\n",
    "# Extract day of the month (1 to 31)\n",
    "df['day_of_month'] = df['timestamp'].dt.day\n",
    "\n",
    "# Extract quarter of the year (1 to 4)\n",
    "df['quarter'] = df['timestamp'].dt.quarter\n",
    "\n",
    "# Extract whether it's a weekend or weekday (1 for weekend, 0 for weekday)\n",
    "df['is_weekend'] = df['timestamp'].dt.dayofweek >= 5      # 5 and 6 are Saturday and Sunday\n",
    "\n",
    "#df['season'] = df['month'].apply(get_season)\n",
    "\n",
    "# Show the transformed DataFrame\n",
    "print(df)\n",
    "\n"
   ]
  },
  {
   "cell_type": "code",
   "execution_count": null,
   "id": "484a9381-7542-47b4-961f-d6c433713764",
   "metadata": {},
   "outputs": [],
   "source": []
  }
 ],
 "metadata": {
  "kernelspec": {
   "display_name": "Python 3 (ipykernel)",
   "language": "python",
   "name": "python3"
  },
  "language_info": {
   "codemirror_mode": {
    "name": "ipython",
    "version": 3
   },
   "file_extension": ".py",
   "mimetype": "text/x-python",
   "name": "python",
   "nbconvert_exporter": "python",
   "pygments_lexer": "ipython3",
   "version": "3.13.2"
  }
 },
 "nbformat": 4,
 "nbformat_minor": 5
}
