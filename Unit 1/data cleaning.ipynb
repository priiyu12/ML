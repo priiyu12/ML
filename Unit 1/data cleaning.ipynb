{
 "cells": [
  {
   "cell_type": "code",
   "execution_count": 1,
   "id": "ea06520a-ef70-4d07-85a9-3cfe41960230",
   "metadata": {},
   "outputs": [
    {
     "name": "stdout",
     "output_type": "stream",
     "text": [
      "     Name  Age\n",
      "0    Alex   10\n",
      "1     Bob   12\n",
      "2  Clarke   13\n"
     ]
    }
   ],
   "source": [
    "import pandas as pd\n",
    "data = [['Alex', 10], ['Bob', 12], ['Clarke', 13]]\n",
    "df = pd.DataFrame(data, columns=['Name', 'Age'])\n",
    "print(df)"
   ]
  },
  {
   "cell_type": "code",
   "execution_count": 2,
   "id": "7fc829a0-af70-49a9-bfe5-9401116efdf6",
   "metadata": {},
   "outputs": [
    {
     "name": "stdout",
     "output_type": "stream",
     "text": [
      "                      name gender                   job title  \\\n",
      "0     Maximilianus Kertess      M          Biostatistician II   \n",
      "1           Hayley Robshaw      F  Administrative Assistant I   \n",
      "2          Margaret Anetts      F                Food Chemist   \n",
      "3              West Kittoe      M      Nuclear Power Engineer   \n",
      "4             Bucky Gillon      M            Dental Hygienist   \n",
      "...                    ...    ...                         ...   \n",
      "1000     Camila Calderhead      F           Account Executive   \n",
      "1001     Ann-marie Daveley      F            Quality Engineer   \n",
      "1002       Vance Nanninini      M     Accounting Assistant II   \n",
      "1003    Cherri Grzegorczyk      F             General Manager   \n",
      "1004    Marcelline Beville      F                    VP Sales   \n",
      "\n",
      "                    department         phone                     email  \\\n",
      "0     Research and Development  752-802-7785       mkertess0@imgur.com   \n",
      "1                    Marketing  540-813-4217                       NaN   \n",
      "2                     Services  593-431-7020                       NaN   \n",
      "3                     Services  762-464-6485       wkittoe3@ustream.tv   \n",
      "4                        Legal  419-969-8647          bgillon4@home.pl   \n",
      "...                        ...           ...                       ...   \n",
      "1000                     Legal  852-642-6882  ccalderhead9@latimes.com   \n",
      "1001                Accounting  804-815-7609   adaveleya@delicious.com   \n",
      "1002           Human Resources  453-422-7547     vnannininirk@time.com   \n",
      "1003               Engineering  582-848-6657   cgrzegorczykrl@ebay.com   \n",
      "1004                     Legal  361-849-9884     mbevillerm@spiegel.de   \n",
      "\n",
      "        residence                 address         time zone  \n",
      "0          Canada       18411 Sugar Point  America/Edmonton  \n",
      "1           China     1281 Namekagon Lane               NaN  \n",
      "2         Belgium       7404 Dakota Alley               NaN  \n",
      "3          Poland       92750 Buell Drive     Europe/Warsaw  \n",
      "4           China      3068 Morrow Street    Asia/Chongqing  \n",
      "...           ...                     ...               ...  \n",
      "1000    Indonesia       09172 Gateway Way     Asia/Makassar  \n",
      "1001  Philippines  908 Di Loreto Crossing       Asia/Manila  \n",
      "1002    Indonesia       961 Forster Plaza               NaN  \n",
      "1003     Malaysia            05 Ryan Pass               NaN  \n",
      "1004        China         01 Schurz Plaza     Asia/Shanghai  \n",
      "\n",
      "[1005 rows x 9 columns]\n"
     ]
    }
   ],
   "source": [
    "df = pd.read_csv(\"employees_info.csv\")\n",
    "print(df)"
   ]
  },
  {
   "cell_type": "code",
   "execution_count": 3,
   "id": "e0fe9fed-d249-48f1-9a12-42f846ed0012",
   "metadata": {},
   "outputs": [
    {
     "name": "stdout",
     "output_type": "stream",
     "text": [
      "<class 'pandas.core.frame.DataFrame'>\n",
      "RangeIndex: 1005 entries, 0 to 1004\n",
      "Data columns (total 9 columns):\n",
      " #   Column      Non-Null Count  Dtype \n",
      "---  ------      --------------  ----- \n",
      " 0   name        1005 non-null   object\n",
      " 1   gender      1005 non-null   object\n",
      " 2   job title   1005 non-null   object\n",
      " 3   department  1005 non-null   object\n",
      " 4   phone       1005 non-null   object\n",
      " 5   email       996 non-null    object\n",
      " 6   residence   1002 non-null   object\n",
      " 7   address     1001 non-null   object\n",
      " 8   time zone   998 non-null    object\n",
      "dtypes: object(9)\n",
      "memory usage: 70.8+ KB\n"
     ]
    }
   ],
   "source": [
    "#get general info\n",
    "df.info()"
   ]
  },
  {
   "cell_type": "code",
   "execution_count": 4,
   "id": "7a7113d1-ea5c-4205-9c28-b6e459d34f98",
   "metadata": {},
   "outputs": [
    {
     "data": {
      "text/plain": [
       "0       Maximilianus Kertess\n",
       "1             Hayley Robshaw\n",
       "2            Margaret Anetts\n",
       "3                West Kittoe\n",
       "4               Bucky Gillon\n",
       "                ...         \n",
       "1000       Camila Calderhead\n",
       "1001       Ann-marie Daveley\n",
       "1002         Vance Nanninini\n",
       "1003      Cherri Grzegorczyk\n",
       "1004      Marcelline Beville\n",
       "Name: name, Length: 1005, dtype: object"
      ]
     },
     "execution_count": 4,
     "metadata": {},
     "output_type": "execute_result"
    }
   ],
   "source": [
    "df['name']"
   ]
  },
  {
   "cell_type": "code",
   "execution_count": 5,
   "id": "e04a98fa-bfec-4553-b74a-4874dd5e5e7a",
   "metadata": {},
   "outputs": [
    {
     "data": {
      "text/plain": [
       "0       M\n",
       "1       F\n",
       "2       F\n",
       "3       M\n",
       "4       M\n",
       "       ..\n",
       "1000    F\n",
       "1001    F\n",
       "1002    M\n",
       "1003    F\n",
       "1004    F\n",
       "Name: gender, Length: 1005, dtype: object"
      ]
     },
     "execution_count": 5,
     "metadata": {},
     "output_type": "execute_result"
    }
   ],
   "source": [
    "df['gender']"
   ]
  },
  {
   "cell_type": "code",
   "execution_count": 6,
   "id": "454a63f5-d3f3-4703-b4f0-13a103e90d47",
   "metadata": {},
   "outputs": [
    {
     "data": {
      "text/plain": [
       "name              Maximilianus Kertess\n",
       "gender                               M\n",
       "job title           Biostatistician II\n",
       "department    Research and Development\n",
       "phone                     752-802-7785\n",
       "email              mkertess0@imgur.com\n",
       "residence                       Canada\n",
       "address              18411 Sugar Point\n",
       "time zone             America/Edmonton\n",
       "Name: 0, dtype: object"
      ]
     },
     "execution_count": 6,
     "metadata": {},
     "output_type": "execute_result"
    }
   ],
   "source": [
    "#first row\n",
    "#loc[<rows_to_select>,<columns_to_select>]\n",
    "df.loc[0]"
   ]
  },
  {
   "cell_type": "code",
   "execution_count": 7,
   "id": "b9fd604c-4523-4b9d-8b04-67b1d563eb7b",
   "metadata": {},
   "outputs": [
    {
     "data": {
      "text/html": [
       "<div>\n",
       "<style scoped>\n",
       "    .dataframe tbody tr th:only-of-type {\n",
       "        vertical-align: middle;\n",
       "    }\n",
       "\n",
       "    .dataframe tbody tr th {\n",
       "        vertical-align: top;\n",
       "    }\n",
       "\n",
       "    .dataframe thead th {\n",
       "        text-align: right;\n",
       "    }\n",
       "</style>\n",
       "<table border=\"1\" class=\"dataframe\">\n",
       "  <thead>\n",
       "    <tr style=\"text-align: right;\">\n",
       "      <th></th>\n",
       "      <th>name</th>\n",
       "      <th>job title</th>\n",
       "    </tr>\n",
       "  </thead>\n",
       "  <tbody>\n",
       "    <tr>\n",
       "      <th>0</th>\n",
       "      <td>Maximilianus Kertess</td>\n",
       "      <td>Biostatistician II</td>\n",
       "    </tr>\n",
       "    <tr>\n",
       "      <th>1</th>\n",
       "      <td>Hayley Robshaw</td>\n",
       "      <td>Administrative Assistant I</td>\n",
       "    </tr>\n",
       "    <tr>\n",
       "      <th>2</th>\n",
       "      <td>Margaret Anetts</td>\n",
       "      <td>Food Chemist</td>\n",
       "    </tr>\n",
       "    <tr>\n",
       "      <th>3</th>\n",
       "      <td>West Kittoe</td>\n",
       "      <td>Nuclear Power Engineer</td>\n",
       "    </tr>\n",
       "    <tr>\n",
       "      <th>4</th>\n",
       "      <td>Bucky Gillon</td>\n",
       "      <td>Dental Hygienist</td>\n",
       "    </tr>\n",
       "    <tr>\n",
       "      <th>5</th>\n",
       "      <td>Ingunna Hizir</td>\n",
       "      <td>VP Product Management</td>\n",
       "    </tr>\n",
       "  </tbody>\n",
       "</table>\n",
       "</div>"
      ],
      "text/plain": [
       "                   name                   job title\n",
       "0  Maximilianus Kertess          Biostatistician II\n",
       "1        Hayley Robshaw  Administrative Assistant I\n",
       "2       Margaret Anetts                Food Chemist\n",
       "3           West Kittoe      Nuclear Power Engineer\n",
       "4          Bucky Gillon            Dental Hygienist\n",
       "5         Ingunna Hizir       VP Product Management"
      ]
     },
     "execution_count": 7,
     "metadata": {},
     "output_type": "execute_result"
    }
   ],
   "source": [
    "#Get the records with row index 0 to 5 and with columns 'name' and 'job title'.\n",
    "\n",
    "df.loc[0:5,[\"name\",\"job title\"]]"
   ]
  },
  {
   "cell_type": "code",
   "execution_count": 8,
   "id": "d93225a1-5ca6-4066-bb8a-eb95b888c0e4",
   "metadata": {},
   "outputs": [
    {
     "data": {
      "text/html": [
       "<div>\n",
       "<style scoped>\n",
       "    .dataframe tbody tr th:only-of-type {\n",
       "        vertical-align: middle;\n",
       "    }\n",
       "\n",
       "    .dataframe tbody tr th {\n",
       "        vertical-align: top;\n",
       "    }\n",
       "\n",
       "    .dataframe thead th {\n",
       "        text-align: right;\n",
       "    }\n",
       "</style>\n",
       "<table border=\"1\" class=\"dataframe\">\n",
       "  <thead>\n",
       "    <tr style=\"text-align: right;\">\n",
       "      <th></th>\n",
       "      <th>name</th>\n",
       "      <th>job title</th>\n",
       "      <th>department</th>\n",
       "    </tr>\n",
       "  </thead>\n",
       "  <tbody>\n",
       "    <tr>\n",
       "      <th>10</th>\n",
       "      <td>Ann-marie Daveley</td>\n",
       "      <td>Quality Engineer</td>\n",
       "      <td>Accounting</td>\n",
       "    </tr>\n",
       "    <tr>\n",
       "      <th>18</th>\n",
       "      <td>Willem Tamsett</td>\n",
       "      <td>Graphic Designer</td>\n",
       "      <td>Accounting</td>\n",
       "    </tr>\n",
       "    <tr>\n",
       "      <th>34</th>\n",
       "      <td>Jaynell Baselli</td>\n",
       "      <td>Mechanical Systems Engineer</td>\n",
       "      <td>Accounting</td>\n",
       "    </tr>\n",
       "    <tr>\n",
       "      <th>43</th>\n",
       "      <td>Gale Workman</td>\n",
       "      <td>Business Systems Development Analyst</td>\n",
       "      <td>Accounting</td>\n",
       "    </tr>\n",
       "    <tr>\n",
       "      <th>68</th>\n",
       "      <td>Ingemar O' Dooley</td>\n",
       "      <td>Senior Financial Analyst</td>\n",
       "      <td>Accounting</td>\n",
       "    </tr>\n",
       "    <tr>\n",
       "      <th>...</th>\n",
       "      <td>...</td>\n",
       "      <td>...</td>\n",
       "      <td>...</td>\n",
       "    </tr>\n",
       "    <tr>\n",
       "      <th>943</th>\n",
       "      <td>Eberhard Josselson</td>\n",
       "      <td>Account Coordinator</td>\n",
       "      <td>Accounting</td>\n",
       "    </tr>\n",
       "    <tr>\n",
       "      <th>945</th>\n",
       "      <td>Egor Pittam</td>\n",
       "      <td>Analyst Programmer</td>\n",
       "      <td>Accounting</td>\n",
       "    </tr>\n",
       "    <tr>\n",
       "      <th>960</th>\n",
       "      <td>Michelina Gimert</td>\n",
       "      <td>Safety Technician III</td>\n",
       "      <td>Accounting</td>\n",
       "    </tr>\n",
       "    <tr>\n",
       "      <th>997</th>\n",
       "      <td>Des Fayter</td>\n",
       "      <td>Assistant Media Planner</td>\n",
       "      <td>Accounting</td>\n",
       "    </tr>\n",
       "    <tr>\n",
       "      <th>1001</th>\n",
       "      <td>Ann-marie Daveley</td>\n",
       "      <td>Quality Engineer</td>\n",
       "      <td>Accounting</td>\n",
       "    </tr>\n",
       "  </tbody>\n",
       "</table>\n",
       "<p>92 rows × 3 columns</p>\n",
       "</div>"
      ],
      "text/plain": [
       "                    name                             job title  department\n",
       "10     Ann-marie Daveley                      Quality Engineer  Accounting\n",
       "18        Willem Tamsett                      Graphic Designer  Accounting\n",
       "34       Jaynell Baselli           Mechanical Systems Engineer  Accounting\n",
       "43          Gale Workman  Business Systems Development Analyst  Accounting\n",
       "68     Ingemar O' Dooley              Senior Financial Analyst  Accounting\n",
       "...                  ...                                   ...         ...\n",
       "943   Eberhard Josselson                   Account Coordinator  Accounting\n",
       "945          Egor Pittam                    Analyst Programmer  Accounting\n",
       "960     Michelina Gimert                 Safety Technician III  Accounting\n",
       "997           Des Fayter               Assistant Media Planner  Accounting\n",
       "1001   Ann-marie Daveley                      Quality Engineer  Accounting\n",
       "\n",
       "[92 rows x 3 columns]"
      ]
     },
     "execution_count": 8,
     "metadata": {},
     "output_type": "execute_result"
    }
   ],
   "source": [
    "#get records based on conditions\n",
    "df.loc[(df[\"department\"] == \"Accounting\"), [\"name\", \"job title\", \"department\"]]"
   ]
  },
  {
   "cell_type": "code",
   "execution_count": 9,
   "id": "d817d006-8d2b-4cf2-919e-0c1c5c79c321",
   "metadata": {},
   "outputs": [],
   "source": [
    "# Handling missing values in a dataset by imputation or deletion.\n",
    "#Delete a column\n",
    "del df['time zone']"
   ]
  },
  {
   "cell_type": "code",
   "execution_count": 10,
   "id": "90393579-31e1-4349-aa51-454f2578246d",
   "metadata": {},
   "outputs": [
    {
     "name": "stdout",
     "output_type": "stream",
     "text": [
      "<class 'pandas.core.frame.DataFrame'>\n",
      "RangeIndex: 1005 entries, 0 to 1004\n",
      "Data columns (total 8 columns):\n",
      " #   Column      Non-Null Count  Dtype \n",
      "---  ------      --------------  ----- \n",
      " 0   name        1005 non-null   object\n",
      " 1   gender      1005 non-null   object\n",
      " 2   job title   1005 non-null   object\n",
      " 3   department  1005 non-null   object\n",
      " 4   phone       1005 non-null   object\n",
      " 5   email       996 non-null    object\n",
      " 6   residence   1002 non-null   object\n",
      " 7   address     1001 non-null   object\n",
      "dtypes: object(8)\n",
      "memory usage: 62.9+ KB\n"
     ]
    }
   ],
   "source": [
    "df.info()"
   ]
  },
  {
   "cell_type": "code",
   "execution_count": 11,
   "id": "05c4d742-29ef-4397-a05e-bb97dfafe9fd",
   "metadata": {},
   "outputs": [
    {
     "data": {
      "text/html": [
       "<div>\n",
       "<style scoped>\n",
       "    .dataframe tbody tr th:only-of-type {\n",
       "        vertical-align: middle;\n",
       "    }\n",
       "\n",
       "    .dataframe tbody tr th {\n",
       "        vertical-align: top;\n",
       "    }\n",
       "\n",
       "    .dataframe thead th {\n",
       "        text-align: right;\n",
       "    }\n",
       "</style>\n",
       "<table border=\"1\" class=\"dataframe\">\n",
       "  <thead>\n",
       "    <tr style=\"text-align: right;\">\n",
       "      <th></th>\n",
       "      <th>name</th>\n",
       "      <th>gender</th>\n",
       "      <th>job title</th>\n",
       "      <th>department</th>\n",
       "      <th>phone</th>\n",
       "      <th>email</th>\n",
       "      <th>residence</th>\n",
       "      <th>address</th>\n",
       "    </tr>\n",
       "  </thead>\n",
       "  <tbody>\n",
       "    <tr>\n",
       "      <th>0</th>\n",
       "      <td>Maximilianus Kertess</td>\n",
       "      <td>M</td>\n",
       "      <td>Biostatistician II</td>\n",
       "      <td>Research and Development</td>\n",
       "      <td>752-802-7785</td>\n",
       "      <td>mkertess0@imgur.com</td>\n",
       "      <td>Canada</td>\n",
       "      <td>18411 Sugar Point</td>\n",
       "    </tr>\n",
       "    <tr>\n",
       "      <th>1</th>\n",
       "      <td>Hayley Robshaw</td>\n",
       "      <td>F</td>\n",
       "      <td>Administrative Assistant I</td>\n",
       "      <td>Marketing</td>\n",
       "      <td>540-813-4217</td>\n",
       "      <td>NaN</td>\n",
       "      <td>China</td>\n",
       "      <td>1281 Namekagon Lane</td>\n",
       "    </tr>\n",
       "    <tr>\n",
       "      <th>2</th>\n",
       "      <td>Margaret Anetts</td>\n",
       "      <td>F</td>\n",
       "      <td>Food Chemist</td>\n",
       "      <td>Services</td>\n",
       "      <td>593-431-7020</td>\n",
       "      <td>NaN</td>\n",
       "      <td>Belgium</td>\n",
       "      <td>7404 Dakota Alley</td>\n",
       "    </tr>\n",
       "    <tr>\n",
       "      <th>3</th>\n",
       "      <td>West Kittoe</td>\n",
       "      <td>M</td>\n",
       "      <td>Nuclear Power Engineer</td>\n",
       "      <td>Services</td>\n",
       "      <td>762-464-6485</td>\n",
       "      <td>wkittoe3@ustream.tv</td>\n",
       "      <td>Poland</td>\n",
       "      <td>92750 Buell Drive</td>\n",
       "    </tr>\n",
       "    <tr>\n",
       "      <th>4</th>\n",
       "      <td>Bucky Gillon</td>\n",
       "      <td>M</td>\n",
       "      <td>Dental Hygienist</td>\n",
       "      <td>Legal</td>\n",
       "      <td>419-969-8647</td>\n",
       "      <td>bgillon4@home.pl</td>\n",
       "      <td>China</td>\n",
       "      <td>3068 Morrow Street</td>\n",
       "    </tr>\n",
       "    <tr>\n",
       "      <th>...</th>\n",
       "      <td>...</td>\n",
       "      <td>...</td>\n",
       "      <td>...</td>\n",
       "      <td>...</td>\n",
       "      <td>...</td>\n",
       "      <td>...</td>\n",
       "      <td>...</td>\n",
       "      <td>...</td>\n",
       "    </tr>\n",
       "    <tr>\n",
       "      <th>995</th>\n",
       "      <td>Dillon Howatt</td>\n",
       "      <td>M</td>\n",
       "      <td>Clinical Specialist</td>\n",
       "      <td>Research and Development</td>\n",
       "      <td>464-126-8895</td>\n",
       "      <td>dhowattrn@google.com</td>\n",
       "      <td>Mexico</td>\n",
       "      <td>402 Pond Lane</td>\n",
       "    </tr>\n",
       "    <tr>\n",
       "      <th>996</th>\n",
       "      <td>Carlyle McKinnon</td>\n",
       "      <td>M</td>\n",
       "      <td>Programmer II</td>\n",
       "      <td>Product Management</td>\n",
       "      <td>327-200-2857</td>\n",
       "      <td>cmckinnonro@mail.ru</td>\n",
       "      <td>Croatia</td>\n",
       "      <td>5 Amoth Place</td>\n",
       "    </tr>\n",
       "    <tr>\n",
       "      <th>997</th>\n",
       "      <td>Des Fayter</td>\n",
       "      <td>M</td>\n",
       "      <td>Assistant Media Planner</td>\n",
       "      <td>Accounting</td>\n",
       "      <td>133-479-3458</td>\n",
       "      <td>NaN</td>\n",
       "      <td>Sweden</td>\n",
       "      <td>79 Larry Pass</td>\n",
       "    </tr>\n",
       "    <tr>\n",
       "      <th>998</th>\n",
       "      <td>Amberly Gabb</td>\n",
       "      <td>F</td>\n",
       "      <td>Media Manager II</td>\n",
       "      <td>Product Management</td>\n",
       "      <td>919-701-1347</td>\n",
       "      <td>NaN</td>\n",
       "      <td>Paraguay</td>\n",
       "      <td>985 Summer Ridge Road</td>\n",
       "    </tr>\n",
       "    <tr>\n",
       "      <th>999</th>\n",
       "      <td>Leena Glowinski</td>\n",
       "      <td>F</td>\n",
       "      <td>Civil Engineer</td>\n",
       "      <td>Product Management</td>\n",
       "      <td>909-270-4772</td>\n",
       "      <td>NaN</td>\n",
       "      <td>South Africa</td>\n",
       "      <td>51 Stang Pass</td>\n",
       "    </tr>\n",
       "  </tbody>\n",
       "</table>\n",
       "<p>1000 rows × 8 columns</p>\n",
       "</div>"
      ],
      "text/plain": [
       "                     name gender                   job title  \\\n",
       "0    Maximilianus Kertess      M          Biostatistician II   \n",
       "1          Hayley Robshaw      F  Administrative Assistant I   \n",
       "2         Margaret Anetts      F                Food Chemist   \n",
       "3             West Kittoe      M      Nuclear Power Engineer   \n",
       "4            Bucky Gillon      M            Dental Hygienist   \n",
       "..                    ...    ...                         ...   \n",
       "995         Dillon Howatt      M         Clinical Specialist   \n",
       "996      Carlyle McKinnon      M               Programmer II   \n",
       "997            Des Fayter      M     Assistant Media Planner   \n",
       "998          Amberly Gabb      F            Media Manager II   \n",
       "999       Leena Glowinski      F              Civil Engineer   \n",
       "\n",
       "                   department         phone                 email  \\\n",
       "0    Research and Development  752-802-7785   mkertess0@imgur.com   \n",
       "1                   Marketing  540-813-4217                   NaN   \n",
       "2                    Services  593-431-7020                   NaN   \n",
       "3                    Services  762-464-6485   wkittoe3@ustream.tv   \n",
       "4                       Legal  419-969-8647      bgillon4@home.pl   \n",
       "..                        ...           ...                   ...   \n",
       "995  Research and Development  464-126-8895  dhowattrn@google.com   \n",
       "996        Product Management  327-200-2857   cmckinnonro@mail.ru   \n",
       "997                Accounting  133-479-3458                   NaN   \n",
       "998        Product Management  919-701-1347                   NaN   \n",
       "999        Product Management  909-270-4772                   NaN   \n",
       "\n",
       "        residence                address  \n",
       "0          Canada      18411 Sugar Point  \n",
       "1           China    1281 Namekagon Lane  \n",
       "2         Belgium      7404 Dakota Alley  \n",
       "3          Poland      92750 Buell Drive  \n",
       "4           China     3068 Morrow Street  \n",
       "..            ...                    ...  \n",
       "995        Mexico          402 Pond Lane  \n",
       "996       Croatia          5 Amoth Place  \n",
       "997        Sweden          79 Larry Pass  \n",
       "998      Paraguay  985 Summer Ridge Road  \n",
       "999  South Africa          51 Stang Pass  \n",
       "\n",
       "[1000 rows x 8 columns]"
      ]
     },
     "execution_count": 11,
     "metadata": {},
     "output_type": "execute_result"
    }
   ],
   "source": [
    "# Drop duplicates\n",
    "df.drop_duplicates()"
   ]
  },
  {
   "cell_type": "code",
   "execution_count": 12,
   "id": "12a0ca45-85ac-4d36-81b1-b1311ec0cc2f",
   "metadata": {},
   "outputs": [
    {
     "name": "stdout",
     "output_type": "stream",
     "text": [
      "                      name gender                   job title  \\\n",
      "0     Maximilianus Kertess      M          Biostatistician II   \n",
      "1           Hayley Robshaw      F  Administrative Assistant I   \n",
      "2          Margaret Anetts      F                Food Chemist   \n",
      "3              West Kittoe      M      Nuclear Power Engineer   \n",
      "4             Bucky Gillon      M            Dental Hygienist   \n",
      "...                    ...    ...                         ...   \n",
      "1000     Camila Calderhead      F           Account Executive   \n",
      "1001     Ann-marie Daveley      F            Quality Engineer   \n",
      "1002       Vance Nanninini      M     Accounting Assistant II   \n",
      "1003    Cherri Grzegorczyk      F             General Manager   \n",
      "1004    Marcelline Beville      F                    VP Sales   \n",
      "\n",
      "                    department         phone                     email  \\\n",
      "0     Research and Development  752-802-7785       mkertess0@imgur.com   \n",
      "1                    Marketing  540-813-4217                       NaN   \n",
      "2                     Services  593-431-7020                       NaN   \n",
      "3                     Services  762-464-6485       wkittoe3@ustream.tv   \n",
      "4                        Legal  419-969-8647          bgillon4@home.pl   \n",
      "...                        ...           ...                       ...   \n",
      "1000                     Legal  852-642-6882  ccalderhead9@latimes.com   \n",
      "1001                Accounting  804-815-7609   adaveleya@delicious.com   \n",
      "1002           Human Resources  453-422-7547     vnannininirk@time.com   \n",
      "1003               Engineering  582-848-6657   cgrzegorczykrl@ebay.com   \n",
      "1004                     Legal  361-849-9884     mbevillerm@spiegel.de   \n",
      "\n",
      "        residence                 address  \n",
      "0          Canada       18411 Sugar Point  \n",
      "1           China     1281 Namekagon Lane  \n",
      "2         Belgium       7404 Dakota Alley  \n",
      "3          Poland       92750 Buell Drive  \n",
      "4           China      3068 Morrow Street  \n",
      "...           ...                     ...  \n",
      "1000    Indonesia       09172 Gateway Way  \n",
      "1001  Philippines  908 Di Loreto Crossing  \n",
      "1002    Indonesia       961 Forster Plaza  \n",
      "1003     Malaysia            05 Ryan Pass  \n",
      "1004        China         01 Schurz Plaza  \n",
      "\n",
      "[1005 rows x 8 columns]\n"
     ]
    }
   ],
   "source": [
    "print(df)"
   ]
  },
  {
   "cell_type": "code",
   "execution_count": 13,
   "id": "3eb5c3bf-39a9-4fa2-b3f9-33a7e244327c",
   "metadata": {},
   "outputs": [],
   "source": [
    "df1=df.drop_duplicates()"
   ]
  },
  {
   "cell_type": "code",
   "execution_count": 14,
   "id": "8b589b2e-5418-449d-9267-1e073f62ddbd",
   "metadata": {},
   "outputs": [
    {
     "name": "stdout",
     "output_type": "stream",
     "text": [
      "                     name gender                   job title  \\\n",
      "0    Maximilianus Kertess      M          Biostatistician II   \n",
      "1          Hayley Robshaw      F  Administrative Assistant I   \n",
      "2         Margaret Anetts      F                Food Chemist   \n",
      "3             West Kittoe      M      Nuclear Power Engineer   \n",
      "4            Bucky Gillon      M            Dental Hygienist   \n",
      "..                    ...    ...                         ...   \n",
      "995         Dillon Howatt      M         Clinical Specialist   \n",
      "996      Carlyle McKinnon      M               Programmer II   \n",
      "997            Des Fayter      M     Assistant Media Planner   \n",
      "998          Amberly Gabb      F            Media Manager II   \n",
      "999       Leena Glowinski      F              Civil Engineer   \n",
      "\n",
      "                   department         phone                 email  \\\n",
      "0    Research and Development  752-802-7785   mkertess0@imgur.com   \n",
      "1                   Marketing  540-813-4217                   NaN   \n",
      "2                    Services  593-431-7020                   NaN   \n",
      "3                    Services  762-464-6485   wkittoe3@ustream.tv   \n",
      "4                       Legal  419-969-8647      bgillon4@home.pl   \n",
      "..                        ...           ...                   ...   \n",
      "995  Research and Development  464-126-8895  dhowattrn@google.com   \n",
      "996        Product Management  327-200-2857   cmckinnonro@mail.ru   \n",
      "997                Accounting  133-479-3458                   NaN   \n",
      "998        Product Management  919-701-1347                   NaN   \n",
      "999        Product Management  909-270-4772                   NaN   \n",
      "\n",
      "        residence                address  \n",
      "0          Canada      18411 Sugar Point  \n",
      "1           China    1281 Namekagon Lane  \n",
      "2         Belgium      7404 Dakota Alley  \n",
      "3          Poland      92750 Buell Drive  \n",
      "4           China     3068 Morrow Street  \n",
      "..            ...                    ...  \n",
      "995        Mexico          402 Pond Lane  \n",
      "996       Croatia          5 Amoth Place  \n",
      "997        Sweden          79 Larry Pass  \n",
      "998      Paraguay  985 Summer Ridge Road  \n",
      "999  South Africa          51 Stang Pass  \n",
      "\n",
      "[1000 rows x 8 columns]\n"
     ]
    }
   ],
   "source": [
    "print(df1)"
   ]
  },
  {
   "cell_type": "code",
   "execution_count": 15,
   "id": "2872c5e1-be24-40b9-85d6-d07656d67551",
   "metadata": {},
   "outputs": [],
   "source": [
    "df1=df.drop_duplicates(subset=['residence'])"
   ]
  },
  {
   "cell_type": "code",
   "execution_count": 16,
   "id": "e6d0346b-8b18-481b-8287-f5d6fceda7c6",
   "metadata": {},
   "outputs": [
    {
     "name": "stdout",
     "output_type": "stream",
     "text": [
      "                     name gender                   job title  \\\n",
      "0    Maximilianus Kertess      M          Biostatistician II   \n",
      "1          Hayley Robshaw      F  Administrative Assistant I   \n",
      "2         Margaret Anetts      F                Food Chemist   \n",
      "3             West Kittoe      M      Nuclear Power Engineer   \n",
      "5           Ingunna Hizir      F       VP Product Management   \n",
      "..                    ...    ...                         ...   \n",
      "901      Latashia Poynser      F       Chief Design Engineer   \n",
      "927          Meade Swayne      F               Accountant II   \n",
      "950         Garth Shelper      M               Senior Editor   \n",
      "973         Karissa Olech      F          Research Associate   \n",
      "974           Issie Goves      F           Financial Advisor   \n",
      "\n",
      "                   department         phone                     email  \\\n",
      "0    Research and Development  752-802-7785       mkertess0@imgur.com   \n",
      "1                   Marketing  540-813-4217                       NaN   \n",
      "2                    Services  593-431-7020                       NaN   \n",
      "3                    Services  762-464-6485       wkittoe3@ustream.tv   \n",
      "5                     Support  469-323-6703      ihizir5@netscape.com   \n",
      "..                        ...           ...                       ...   \n",
      "901      Business Development  110-862-1759   lpoynserp1@amazon.co.jp   \n",
      "927      Business Development  234-150-4588       mswaynepr@goo.ne.jp   \n",
      "950                     Legal  598-467-1690      gshelperqe@wiley.com   \n",
      "973                     Sales  264-870-5298        kolechr1@zdnet.com   \n",
      "974           Human Resources  775-909-4141  igovesr2@cyberchimps.com   \n",
      "\n",
      "       residence                   address  \n",
      "0         Canada         18411 Sugar Point  \n",
      "1          China       1281 Namekagon Lane  \n",
      "2        Belgium         7404 Dakota Alley  \n",
      "3         Poland         92750 Buell Drive  \n",
      "5         Russia      47709 Russell Circle  \n",
      "..           ...                       ...  \n",
      "901  North Korea            9 Artisan Hill  \n",
      "927     Paraguay       6499 Spenser Circle  \n",
      "950   Kyrgyzstan             073 Muir Hill  \n",
      "973      Ecuador  000 Independence Terrace  \n",
      "974          NaN             94 Muir Court  \n",
      "\n",
      "[125 rows x 8 columns]\n"
     ]
    }
   ],
   "source": [
    "print(df1)"
   ]
  },
  {
   "cell_type": "code",
   "execution_count": 17,
   "id": "519d2ab4-1167-4b75-9695-feb92b79feca",
   "metadata": {},
   "outputs": [
    {
     "data": {
      "text/html": [
       "<div>\n",
       "<style scoped>\n",
       "    .dataframe tbody tr th:only-of-type {\n",
       "        vertical-align: middle;\n",
       "    }\n",
       "\n",
       "    .dataframe tbody tr th {\n",
       "        vertical-align: top;\n",
       "    }\n",
       "\n",
       "    .dataframe thead th {\n",
       "        text-align: right;\n",
       "    }\n",
       "</style>\n",
       "<table border=\"1\" class=\"dataframe\">\n",
       "  <thead>\n",
       "    <tr style=\"text-align: right;\">\n",
       "      <th></th>\n",
       "      <th>name</th>\n",
       "      <th>gender</th>\n",
       "      <th>job title</th>\n",
       "      <th>department</th>\n",
       "      <th>phone</th>\n",
       "      <th>email</th>\n",
       "      <th>residence</th>\n",
       "      <th>address</th>\n",
       "    </tr>\n",
       "  </thead>\n",
       "  <tbody>\n",
       "    <tr>\n",
       "      <th>2</th>\n",
       "      <td>Margaret Anetts</td>\n",
       "      <td>F</td>\n",
       "      <td>Food Chemist</td>\n",
       "      <td>Services</td>\n",
       "      <td>593-431-7020</td>\n",
       "      <td>NaN</td>\n",
       "      <td>Belgium</td>\n",
       "      <td>7404 Dakota Alley</td>\n",
       "    </tr>\n",
       "    <tr>\n",
       "      <th>7</th>\n",
       "      <td>Netty Millhouse</td>\n",
       "      <td>F</td>\n",
       "      <td>Nuclear Power Engineer</td>\n",
       "      <td>Business Development</td>\n",
       "      <td>409-588-1227</td>\n",
       "      <td>nmillhouse7@ocn.ne.jp</td>\n",
       "      <td>Vietnam</td>\n",
       "      <td>07871 Mccormick Pass</td>\n",
       "    </tr>\n",
       "    <tr>\n",
       "      <th>16</th>\n",
       "      <td>Evangelin Folbigg</td>\n",
       "      <td>F</td>\n",
       "      <td>Engineer II</td>\n",
       "      <td>Sales</td>\n",
       "      <td>187-248-6176</td>\n",
       "      <td>efolbiggg@sciencedirect.com</td>\n",
       "      <td>Uganda</td>\n",
       "      <td>5 Saint Paul Hill</td>\n",
       "    </tr>\n",
       "    <tr>\n",
       "      <th>18</th>\n",
       "      <td>Willem Tamsett</td>\n",
       "      <td>M</td>\n",
       "      <td>Graphic Designer</td>\n",
       "      <td>Accounting</td>\n",
       "      <td>964-962-6881</td>\n",
       "      <td>wtamsetti@patch.com</td>\n",
       "      <td>Mongolia</td>\n",
       "      <td>8 6th Center</td>\n",
       "    </tr>\n",
       "    <tr>\n",
       "      <th>19</th>\n",
       "      <td>Tabbie Larby</td>\n",
       "      <td>M</td>\n",
       "      <td>Staff Accountant I</td>\n",
       "      <td>Business Development</td>\n",
       "      <td>789-540-7636</td>\n",
       "      <td>tlarbyj@sakura.ne.jp</td>\n",
       "      <td>Uganda</td>\n",
       "      <td>3071 Michigan Crossing</td>\n",
       "    </tr>\n",
       "    <tr>\n",
       "      <th>...</th>\n",
       "      <td>...</td>\n",
       "      <td>...</td>\n",
       "      <td>...</td>\n",
       "      <td>...</td>\n",
       "      <td>...</td>\n",
       "      <td>...</td>\n",
       "      <td>...</td>\n",
       "      <td>...</td>\n",
       "    </tr>\n",
       "    <tr>\n",
       "      <th>1000</th>\n",
       "      <td>Camila Calderhead</td>\n",
       "      <td>F</td>\n",
       "      <td>Account Executive</td>\n",
       "      <td>Legal</td>\n",
       "      <td>852-642-6882</td>\n",
       "      <td>ccalderhead9@latimes.com</td>\n",
       "      <td>Indonesia</td>\n",
       "      <td>09172 Gateway Way</td>\n",
       "    </tr>\n",
       "    <tr>\n",
       "      <th>1001</th>\n",
       "      <td>Ann-marie Daveley</td>\n",
       "      <td>F</td>\n",
       "      <td>Quality Engineer</td>\n",
       "      <td>Accounting</td>\n",
       "      <td>804-815-7609</td>\n",
       "      <td>adaveleya@delicious.com</td>\n",
       "      <td>Philippines</td>\n",
       "      <td>908 Di Loreto Crossing</td>\n",
       "    </tr>\n",
       "    <tr>\n",
       "      <th>1002</th>\n",
       "      <td>Vance Nanninini</td>\n",
       "      <td>M</td>\n",
       "      <td>Accounting Assistant II</td>\n",
       "      <td>Human Resources</td>\n",
       "      <td>453-422-7547</td>\n",
       "      <td>vnannininirk@time.com</td>\n",
       "      <td>Indonesia</td>\n",
       "      <td>961 Forster Plaza</td>\n",
       "    </tr>\n",
       "    <tr>\n",
       "      <th>1003</th>\n",
       "      <td>Cherri Grzegorczyk</td>\n",
       "      <td>F</td>\n",
       "      <td>General Manager</td>\n",
       "      <td>Engineering</td>\n",
       "      <td>582-848-6657</td>\n",
       "      <td>cgrzegorczykrl@ebay.com</td>\n",
       "      <td>Malaysia</td>\n",
       "      <td>05 Ryan Pass</td>\n",
       "    </tr>\n",
       "    <tr>\n",
       "      <th>1004</th>\n",
       "      <td>Marcelline Beville</td>\n",
       "      <td>F</td>\n",
       "      <td>VP Sales</td>\n",
       "      <td>Legal</td>\n",
       "      <td>361-849-9884</td>\n",
       "      <td>mbevillerm@spiegel.de</td>\n",
       "      <td>China</td>\n",
       "      <td>01 Schurz Plaza</td>\n",
       "    </tr>\n",
       "  </tbody>\n",
       "</table>\n",
       "<p>431 rows × 8 columns</p>\n",
       "</div>"
      ],
      "text/plain": [
       "                    name gender                job title  \\\n",
       "2        Margaret Anetts      F             Food Chemist   \n",
       "7        Netty Millhouse      F   Nuclear Power Engineer   \n",
       "16     Evangelin Folbigg      F              Engineer II   \n",
       "18        Willem Tamsett      M         Graphic Designer   \n",
       "19          Tabbie Larby      M       Staff Accountant I   \n",
       "...                  ...    ...                      ...   \n",
       "1000   Camila Calderhead      F        Account Executive   \n",
       "1001   Ann-marie Daveley      F         Quality Engineer   \n",
       "1002     Vance Nanninini      M  Accounting Assistant II   \n",
       "1003  Cherri Grzegorczyk      F          General Manager   \n",
       "1004  Marcelline Beville      F                 VP Sales   \n",
       "\n",
       "                department         phone                        email  \\\n",
       "2                 Services  593-431-7020                          NaN   \n",
       "7     Business Development  409-588-1227        nmillhouse7@ocn.ne.jp   \n",
       "16                   Sales  187-248-6176  efolbiggg@sciencedirect.com   \n",
       "18              Accounting  964-962-6881          wtamsetti@patch.com   \n",
       "19    Business Development  789-540-7636         tlarbyj@sakura.ne.jp   \n",
       "...                    ...           ...                          ...   \n",
       "1000                 Legal  852-642-6882     ccalderhead9@latimes.com   \n",
       "1001            Accounting  804-815-7609      adaveleya@delicious.com   \n",
       "1002       Human Resources  453-422-7547        vnannininirk@time.com   \n",
       "1003           Engineering  582-848-6657      cgrzegorczykrl@ebay.com   \n",
       "1004                 Legal  361-849-9884        mbevillerm@spiegel.de   \n",
       "\n",
       "        residence                 address  \n",
       "2         Belgium       7404 Dakota Alley  \n",
       "7         Vietnam    07871 Mccormick Pass  \n",
       "16         Uganda       5 Saint Paul Hill  \n",
       "18       Mongolia            8 6th Center  \n",
       "19         Uganda  3071 Michigan Crossing  \n",
       "...           ...                     ...  \n",
       "1000    Indonesia       09172 Gateway Way  \n",
       "1001  Philippines  908 Di Loreto Crossing  \n",
       "1002    Indonesia       961 Forster Plaza  \n",
       "1003     Malaysia            05 Ryan Pass  \n",
       "1004        China         01 Schurz Plaza  \n",
       "\n",
       "[431 rows x 8 columns]"
      ]
     },
     "execution_count": 17,
     "metadata": {},
     "output_type": "execute_result"
    }
   ],
   "source": [
    "df.drop_duplicates(subset=['residence', 'department'], keep='last')"
   ]
  },
  {
   "cell_type": "code",
   "execution_count": 18,
   "id": "cdf565c5-da1d-4197-bd0d-9dfc23ac62ee",
   "metadata": {},
   "outputs": [
    {
     "name": "stdout",
     "output_type": "stream",
     "text": [
      "\n",
      "Missing Values Count:\n",
      " name          0\n",
      "gender        0\n",
      "job title     0\n",
      "department    0\n",
      "phone         0\n",
      "email         9\n",
      "residence     3\n",
      "address       4\n",
      "dtype: int64\n"
     ]
    }
   ],
   "source": [
    "# Count missing values in each column\n",
    "print(\"\\nMissing Values Count:\\n\", df.isnull().sum())"
   ]
  },
  {
   "cell_type": "code",
   "execution_count": 19,
   "id": "76beb919-94af-44fe-b341-3aa9e4c93b20",
   "metadata": {},
   "outputs": [
    {
     "name": "stdout",
     "output_type": "stream",
     "text": [
      "\n",
      "Missing Values Percentage:\n",
      " name          0.000000\n",
      "gender        0.000000\n",
      "job title     0.000000\n",
      "department    0.000000\n",
      "phone         0.000000\n",
      "email         0.895522\n",
      "residence     0.298507\n",
      "address       0.398010\n",
      "dtype: float64\n"
     ]
    }
   ],
   "source": [
    "# Percentage of missing values\n",
    "print(\"\\nMissing Values Percentage:\\n\", df.isnull().mean() * 100)\n"
   ]
  },
  {
   "cell_type": "code",
   "execution_count": 20,
   "id": "e4d8d2d5-cb97-4bb7-a144-ee23557f5052",
   "metadata": {},
   "outputs": [
    {
     "name": "stdout",
     "output_type": "stream",
     "text": [
      "\n",
      "After Dropping Rows:\n",
      "                       name gender                     job title  \\\n",
      "0     Maximilianus Kertess      M            Biostatistician II   \n",
      "3              West Kittoe      M        Nuclear Power Engineer   \n",
      "4             Bucky Gillon      M              Dental Hygienist   \n",
      "5            Ingunna Hizir      F         VP Product Management   \n",
      "6            Crista Panyer      F  Structural Analysis Engineer   \n",
      "...                    ...    ...                           ...   \n",
      "1000     Camila Calderhead      F             Account Executive   \n",
      "1001     Ann-marie Daveley      F              Quality Engineer   \n",
      "1002       Vance Nanninini      M       Accounting Assistant II   \n",
      "1003    Cherri Grzegorczyk      F               General Manager   \n",
      "1004    Marcelline Beville      F                      VP Sales   \n",
      "\n",
      "                    department         phone                     email  \\\n",
      "0     Research and Development  752-802-7785       mkertess0@imgur.com   \n",
      "3                     Services  762-464-6485       wkittoe3@ustream.tv   \n",
      "4                        Legal  419-969-8647          bgillon4@home.pl   \n",
      "5                      Support  469-323-6703      ihizir5@netscape.com   \n",
      "6                     Training  182-648-7898    cpanyer6@xinhuanet.com   \n",
      "...                        ...           ...                       ...   \n",
      "1000                     Legal  852-642-6882  ccalderhead9@latimes.com   \n",
      "1001                Accounting  804-815-7609   adaveleya@delicious.com   \n",
      "1002           Human Resources  453-422-7547     vnannininirk@time.com   \n",
      "1003               Engineering  582-848-6657   cgrzegorczykrl@ebay.com   \n",
      "1004                     Legal  361-849-9884     mbevillerm@spiegel.de   \n",
      "\n",
      "        residence                   address  \n",
      "0          Canada         18411 Sugar Point  \n",
      "3          Poland         92750 Buell Drive  \n",
      "4           China        3068 Morrow Street  \n",
      "5          Russia      47709 Russell Circle  \n",
      "6       Indonesia  775 International Center  \n",
      "...           ...                       ...  \n",
      "1000    Indonesia         09172 Gateway Way  \n",
      "1001  Philippines    908 Di Loreto Crossing  \n",
      "1002    Indonesia         961 Forster Plaza  \n",
      "1003     Malaysia              05 Ryan Pass  \n",
      "1004        China           01 Schurz Plaza  \n",
      "\n",
      "[989 rows x 8 columns]\n"
     ]
    }
   ],
   "source": [
    "#Drop Rows with Missing Values\n",
    "df_dropped_rows = df.dropna()\n",
    "print(\"\\nAfter Dropping Rows:\\n\", df_dropped_rows)"
   ]
  },
  {
   "cell_type": "code",
   "execution_count": 21,
   "id": "156a55fd-8f7f-489b-a601-32d935660d7c",
   "metadata": {},
   "outputs": [
    {
     "name": "stdout",
     "output_type": "stream",
     "text": [
      "\n",
      "After Dropping Columns:\n",
      "                       name gender                   job title  \\\n",
      "0     Maximilianus Kertess      M          Biostatistician II   \n",
      "1           Hayley Robshaw      F  Administrative Assistant I   \n",
      "2          Margaret Anetts      F                Food Chemist   \n",
      "3              West Kittoe      M      Nuclear Power Engineer   \n",
      "4             Bucky Gillon      M            Dental Hygienist   \n",
      "...                    ...    ...                         ...   \n",
      "1000     Camila Calderhead      F           Account Executive   \n",
      "1001     Ann-marie Daveley      F            Quality Engineer   \n",
      "1002       Vance Nanninini      M     Accounting Assistant II   \n",
      "1003    Cherri Grzegorczyk      F             General Manager   \n",
      "1004    Marcelline Beville      F                    VP Sales   \n",
      "\n",
      "                    department         phone  \n",
      "0     Research and Development  752-802-7785  \n",
      "1                    Marketing  540-813-4217  \n",
      "2                     Services  593-431-7020  \n",
      "3                     Services  762-464-6485  \n",
      "4                        Legal  419-969-8647  \n",
      "...                        ...           ...  \n",
      "1000                     Legal  852-642-6882  \n",
      "1001                Accounting  804-815-7609  \n",
      "1002           Human Resources  453-422-7547  \n",
      "1003               Engineering  582-848-6657  \n",
      "1004                     Legal  361-849-9884  \n",
      "\n",
      "[1005 rows x 5 columns]\n"
     ]
    }
   ],
   "source": [
    "#deletion\n",
    "#Drop Columns with Missing Values\n",
    "df_dropped_cols = df.dropna(axis=1)\n",
    "print(\"\\nAfter Dropping Columns:\\n\", df_dropped_cols)"
   ]
  },
  {
   "cell_type": "code",
   "execution_count": 22,
   "id": "a3fc58b7-107c-4b86-8d3d-645f4b3f9ece",
   "metadata": {},
   "outputs": [
    {
     "name": "stdout",
     "output_type": "stream",
     "text": [
      "\n",
      "After Threshold Drop:\n",
      "                       name gender                   job title  \\\n",
      "0     Maximilianus Kertess      M          Biostatistician II   \n",
      "1           Hayley Robshaw      F  Administrative Assistant I   \n",
      "2          Margaret Anetts      F                Food Chemist   \n",
      "3              West Kittoe      M      Nuclear Power Engineer   \n",
      "4             Bucky Gillon      M            Dental Hygienist   \n",
      "...                    ...    ...                         ...   \n",
      "1000     Camila Calderhead      F           Account Executive   \n",
      "1001     Ann-marie Daveley      F            Quality Engineer   \n",
      "1002       Vance Nanninini      M     Accounting Assistant II   \n",
      "1003    Cherri Grzegorczyk      F             General Manager   \n",
      "1004    Marcelline Beville      F                    VP Sales   \n",
      "\n",
      "                    department         phone                     email  \\\n",
      "0     Research and Development  752-802-7785       mkertess0@imgur.com   \n",
      "1                    Marketing  540-813-4217                       NaN   \n",
      "2                     Services  593-431-7020                       NaN   \n",
      "3                     Services  762-464-6485       wkittoe3@ustream.tv   \n",
      "4                        Legal  419-969-8647          bgillon4@home.pl   \n",
      "...                        ...           ...                       ...   \n",
      "1000                     Legal  852-642-6882  ccalderhead9@latimes.com   \n",
      "1001                Accounting  804-815-7609   adaveleya@delicious.com   \n",
      "1002           Human Resources  453-422-7547     vnannininirk@time.com   \n",
      "1003               Engineering  582-848-6657   cgrzegorczykrl@ebay.com   \n",
      "1004                     Legal  361-849-9884     mbevillerm@spiegel.de   \n",
      "\n",
      "        residence                 address  \n",
      "0          Canada       18411 Sugar Point  \n",
      "1           China     1281 Namekagon Lane  \n",
      "2         Belgium       7404 Dakota Alley  \n",
      "3          Poland       92750 Buell Drive  \n",
      "4           China      3068 Morrow Street  \n",
      "...           ...                     ...  \n",
      "1000    Indonesia       09172 Gateway Way  \n",
      "1001  Philippines  908 Di Loreto Crossing  \n",
      "1002    Indonesia       961 Forster Plaza  \n",
      "1003     Malaysia            05 Ryan Pass  \n",
      "1004        China         01 Schurz Plaza  \n",
      "\n",
      "[1005 rows x 8 columns]\n"
     ]
    }
   ],
   "source": [
    "#Drop Rows/Columns with Specific Threshold\n",
    "df_threshold = df.dropna(thresh=2)  # Keep rows with at least 2 non-NaN values\n",
    "print(\"\\nAfter Threshold Drop:\\n\", df_threshold)"
   ]
  },
  {
   "cell_type": "code",
   "execution_count": 36,
   "id": "6e6b1bfb-1ec8-4607-856d-9f09efa0b652",
   "metadata": {},
   "outputs": [
    {
     "name": "stdout",
     "output_type": "stream",
     "text": [
      "\n",
      "After Filling with Default Value:\n",
      "                       name gender                   job title  \\\n",
      "0     Maximilianus Kertess      M          Biostatistician II   \n",
      "1           Hayley Robshaw      F  Administrative Assistant I   \n",
      "2          Margaret Anetts      F                Food Chemist   \n",
      "3              West Kittoe      M      Nuclear Power Engineer   \n",
      "4             Bucky Gillon      M            Dental Hygienist   \n",
      "...                    ...    ...                         ...   \n",
      "1000     Camila Calderhead      F           Account Executive   \n",
      "1001     Ann-marie Daveley      F            Quality Engineer   \n",
      "1002       Vance Nanninini      M     Accounting Assistant II   \n",
      "1003    Cherri Grzegorczyk      F             General Manager   \n",
      "1004    Marcelline Beville      F                    VP Sales   \n",
      "\n",
      "                    department         phone                     email  \\\n",
      "0     Research and Development  752-802-7785       mkertess0@imgur.com   \n",
      "1                    Marketing  540-813-4217                         U   \n",
      "2                     Services  593-431-7020                         U   \n",
      "3                     Services  762-464-6485       wkittoe3@ustream.tv   \n",
      "4                        Legal  419-969-8647          bgillon4@home.pl   \n",
      "...                        ...           ...                       ...   \n",
      "1000                     Legal  852-642-6882  ccalderhead9@latimes.com   \n",
      "1001                Accounting  804-815-7609   adaveleya@delicious.com   \n",
      "1002           Human Resources  453-422-7547     vnannininirk@time.com   \n",
      "1003               Engineering  582-848-6657   cgrzegorczykrl@ebay.com   \n",
      "1004                     Legal  361-849-9884     mbevillerm@spiegel.de   \n",
      "\n",
      "        residence                 address         time zone  \n",
      "0          Canada       18411 Sugar Point  America/Edmonton  \n",
      "1           China     1281 Namekagon Lane                 U  \n",
      "2         Belgium       7404 Dakota Alley                 U  \n",
      "3          Poland       92750 Buell Drive     Europe/Warsaw  \n",
      "4           China      3068 Morrow Street    Asia/Chongqing  \n",
      "...           ...                     ...               ...  \n",
      "1000    Indonesia       09172 Gateway Way     Asia/Makassar  \n",
      "1001  Philippines  908 Di Loreto Crossing       Asia/Manila  \n",
      "1002    Indonesia       961 Forster Plaza                 U  \n",
      "1003     Malaysia            05 Ryan Pass                 U  \n",
      "1004        China         01 Schurz Plaza     Asia/Shanghai  \n",
      "\n",
      "[1005 rows x 9 columns]\n"
     ]
    }
   ],
   "source": [
    "#imputation\n",
    "#Fill Missing Values with Default Values\n",
    "df_filled_default = df.fillna(\"U\")\n",
    "print(\"\\nAfter Filling with Default Value:\\n\", df_filled_default)\n"
   ]
  },
  {
   "cell_type": "code",
   "execution_count": 62,
   "id": "9d9cf897-898b-448b-b133-e23d91249b93",
   "metadata": {},
   "outputs": [],
   "source": [
    "#Correcting inconsistencies in data entry\n",
    "#Standardize Formats\n",
    "#Convert text to lowercase or title case.\n",
    "df['name'] = df['name'].str.title()"
   ]
  },
  {
   "cell_type": "code",
   "execution_count": 25,
   "id": "c528e208-4c9e-4a64-934f-9f6dab3c9c23",
   "metadata": {},
   "outputs": [
    {
     "name": "stdout",
     "output_type": "stream",
     "text": [
      "0       Maximilianus Kertess\n",
      "1             Hayley Robshaw\n",
      "2            Margaret Anetts\n",
      "3                West Kittoe\n",
      "4               Bucky Gillon\n",
      "                ...         \n",
      "1000       Camila Calderhead\n",
      "1001       Ann-marie Daveley\n",
      "1002         Vance Nanninini\n",
      "1003      Cherri Grzegorczyk\n",
      "1004      Marcelline Beville\n",
      "Name: name, Length: 1005, dtype: object\n"
     ]
    }
   ],
   "source": [
    "print(df['name'])"
   ]
  },
  {
   "cell_type": "code",
   "execution_count": 26,
   "id": "95a59446-7d76-422a-b268-a8583880d558",
   "metadata": {},
   "outputs": [],
   "source": [
    "df['name'] = df['name'].str.lower()"
   ]
  },
  {
   "cell_type": "code",
   "execution_count": 27,
   "id": "3162c8d7-08bf-4609-aa81-97cdad6fa53d",
   "metadata": {},
   "outputs": [
    {
     "name": "stdout",
     "output_type": "stream",
     "text": [
      "0       maximilianus kertess\n",
      "1             hayley robshaw\n",
      "2            margaret anetts\n",
      "3                west kittoe\n",
      "4               bucky gillon\n",
      "                ...         \n",
      "1000       camila calderhead\n",
      "1001       ann-marie daveley\n",
      "1002         vance nanninini\n",
      "1003      cherri grzegorczyk\n",
      "1004      marcelline beville\n",
      "Name: name, Length: 1005, dtype: object\n"
     ]
    }
   ],
   "source": [
    "print(df['name'])"
   ]
  },
  {
   "cell_type": "code",
   "execution_count": 68,
   "id": "47741492-cb86-4277-aa17-f8a7603ce874",
   "metadata": {},
   "outputs": [],
   "source": [
    "#df['Date'] = pd.to_datetime(df['Date'], format='%Y-%m-%d')"
   ]
  },
  {
   "cell_type": "code",
   "execution_count": 28,
   "id": "ac275b91-9c5b-4746-ae84-d04ebfe10bb4",
   "metadata": {},
   "outputs": [],
   "source": [
    "df['gender'] = df['gender'].replace({'M': 'Male', 'F': 'Female'})"
   ]
  },
  {
   "cell_type": "code",
   "execution_count": 29,
   "id": "480d19a0-717c-44f9-8432-c9286b7c2fe0",
   "metadata": {},
   "outputs": [
    {
     "name": "stdout",
     "output_type": "stream",
     "text": [
      "0         Male\n",
      "1       Female\n",
      "2       Female\n",
      "3         Male\n",
      "4         Male\n",
      "         ...  \n",
      "1000    Female\n",
      "1001    Female\n",
      "1002      Male\n",
      "1003    Female\n",
      "1004    Female\n",
      "Name: gender, Length: 1005, dtype: object\n"
     ]
    }
   ],
   "source": [
    "print(df['gender'])"
   ]
  },
  {
   "cell_type": "code",
   "execution_count": 30,
   "id": "e63fa9f1-48fb-4ad9-ba40-7d92affd3fc0",
   "metadata": {},
   "outputs": [],
   "source": [
    "#remove non-numeric characters\n",
    "df['phone'] = df['phone'].str.replace(r'-', '', regex=True)  "
   ]
  },
  {
   "cell_type": "code",
   "execution_count": 31,
   "id": "1e37d2d7-70bf-4f48-8798-5af90def489f",
   "metadata": {},
   "outputs": [
    {
     "name": "stdout",
     "output_type": "stream",
     "text": [
      "0       7528027785\n",
      "1       5408134217\n",
      "2       5934317020\n",
      "3       7624646485\n",
      "4       4199698647\n",
      "           ...    \n",
      "1000    8526426882\n",
      "1001    8048157609\n",
      "1002    4534227547\n",
      "1003    5828486657\n",
      "1004    3618499884\n",
      "Name: phone, Length: 1005, dtype: object\n"
     ]
    }
   ],
   "source": [
    "print(df['phone']) Filter based on criteria\n"
   ]
  },
  {
   "cell_type": "code",
   "execution_count": 3,
   "id": "3a1cad5e-2cbf-455f-8dee-ab94d1af09e6",
   "metadata": {},
   "outputs": [
    {
     "name": "stdout",
     "output_type": "stream",
     "text": [
      "Original Data:\n",
      "   age    salary  experience location\n",
      "0   25   50000.0           2       NY\n",
      "1   27   60000.0           5       LA\n",
      "2   15  120000.0           0       SF\n",
      "3   45  150000.0          10       NY\n",
      "4  100   30000.0           0       LA\n",
      "5   -5       NaN          20       SF\n"
     ]
    }
   ],
   "source": [
    "# Filter based on criteria\n",
    "data = {\n",
    "    'age': [25, 27, 15, 45, 100, -5],\n",
    "    'salary': [50000, 60000, 120000, 150000, 30000, None],\n",
    "    'experience': [2, 5, 0, 10, 0, 20],\n",
    "    'location': ['NY', 'LA', 'SF', 'NY', 'LA', 'SF']\n",
    "}\n",
    "\n",
    "# Create DataFrame\n",
    "df = pd.DataFrame(data)\n",
    "\n",
    "# Show the original data\n",
    "print(\"Original Data:\")\n",
    "print(df)# Filter based on criteria\n",
    "        "
   ]
  },
  {
   "cell_type": "code",
   "execution_count": 4,
   "id": "b68fb488-8607-4e4d-b1b8-c03fa5008442",
   "metadata": {},
   "outputs": [
    {
     "name": "stdout",
     "output_type": "stream",
     "text": [
      "\n",
      "Filtered Data:\n",
      "   age    salary  experience location\n",
      "0   25   50000.0           2       NY\n",
      "1   27   60000.0           5       LA\n",
      "3   45  150000.0          10       NY\n",
      "4  100   30000.0           0       LA\n"
     ]
    }
   ],
   "source": [
    "# Filter based on criteria\n",
    "# Filter out rows where 'age' is less than 18 or greater than 100\n",
    "filtered_df = df[\n",
    "    (df['age'] >= 18) & (df['age'] <= 100)           \n",
    "   \n",
    "]\n",
    "# Show filtered data\n",
    "print(\"\\nFiltered Data:\")\n",
    "print(filtered_df)\n"
   ]
  },
  {
   "cell_type": "code",
   "execution_count": 8,
   "id": "0d1510ff-e03d-49b6-add3-f9b4df3eb830",
   "metadata": {},
   "outputs": [
    {
     "name": "stdout",
     "output_type": "stream",
     "text": [
      "\n",
      "Filtered Data:\n",
      "   age    salary  experience location\n",
      "0   25   50000.0           2       NY\n",
      "1   27   60000.0           5       LA\n",
      "3   45  150000.0          10       NY\n"
     ]
    }
   ],
   "source": [
    "# Filter out rows where 'experience' is less than 1 or greater than 30\n",
    "\n",
    "filtered_df = df[\n",
    "    (df['experience'] >= 1) & (df['experience'] < 20) # Experience criteria\n",
    "]\n",
    "\n",
    "# Show filtered data\n",
    "print(\"\\nFiltered Data:\")\n",
    "print(filtered_df)\n"
   ]
  },
  {
   "cell_type": "code",
   "execution_count": 24,
   "id": "434f0b1e-5a84-49be-aebe-241bad6c1b03",
   "metadata": {},
   "outputs": [
    {
     "name": "stdout",
     "output_type": "stream",
     "text": [
      "Hello #GLS @Ahmedabad Studnets <p>  <br>  at www.glsuniversity.ac.in\n",
      "Hello #GLS @Ahmedabad Studnets     at www.glsuniversity.ac.in\n",
      "Hello GLS Ahmedabad Studnets     at wwwglsuniversityacin\n"
     ]
    }
   ],
   "source": [
    "#Cleaning textual data by removing HTML tags, punctuation, and special characters.\n",
    "#re.sub(pattern, replacement, text):\n",
    "import re\n",
    "text = \"Hello #GLS @Ahmedabad Studnets <p>  <br>  at www.glsuniversity.ac.in\"\n",
    "print(text)\n",
    "def remove_html_tags(text): \n",
    "    clean_text = re.sub(r'<.*?>', '', text) \n",
    "    return clean_text\n",
    "def remove_special_characters(text): \n",
    "    clean_text = re.sub(r'[^a-zA-Z0-9\\s]', '', text) \n",
    "    return clean_text\n",
    "\n",
    "remove_html = remove_html_tags(text)\n",
    "print(remove_html)\n",
    "\n",
    "remove_sChar = remove_special_characters(remove_html)\n",
    "print(remove_sChar)\n"
   ]
  }
 ],
 "metadata": {
  "kernelspec": {
   "display_name": "Python 3 (ipykernel)",
   "language": "python",
   "name": "python3"
  },
  "language_info": {
   "codemirror_mode": {
    "name": "ipython",
    "version": 3
   },
   "file_extension": ".py",
   "mimetype": "text/x-python",
   "name": "python",
   "nbconvert_exporter": "python",
   "pygments_lexer": "ipython3",
   "version": "3.13.2"
  }
 },
 "nbformat": 4,
 "nbformat_minor": 5
}
